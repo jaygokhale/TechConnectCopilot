{
 "cells": [
  {
   "cell_type": "markdown",
   "metadata": {},
   "source": [
    "## Import libs and Environment vars"
   ]
  },
  {
   "cell_type": "code",
   "execution_count": null,
   "metadata": {},
   "outputs": [],
   "source": [
    "from openai import AzureOpenAI\n",
    "import pandas as pd\n",
    "from azure.core.credentials import AzureKeyCredential\n",
    "from azure.search.documents import SearchClient \n",
    "from utils.storage_functions import get_table_data\n",
    "import requests\n",
    "import json\n",
    "import os\n",
    "from dotenv import load_dotenv\n",
    "\n",
    "load_dotenv(override=True)\n",
    "\n",
    "SEARCH_ENDPOINT = os.getenv(\"SEARCH_ENDPOINT\")\n",
    "INDEX_NAME = os.getenv(\"INDEX_NAME\")\n",
    "SEARCH_KEY = os.getenv(\"SEARCH_QUERY_KEY\")\n",
    "AOAI_API_KEY = os.getenv(\"AOAI_API_KEY\")\n",
    "AOAI_ENDPOINT = os.getenv(\"AOAI_ENDPOINT\")\n",
    "AOAI_API_VERSION = os.getenv(\"AOAI_API_VERSION\")\n",
    "AOAI_MODEL = os.getenv(\"AOAI_MODEL\")\n",
    "SEARCH_ADMIN_KEY = os.getenv(\"SEARCH_ADMIN_KEY\")\n",
    "STORAGE_ACCOUNT_NAME = os.getenv(\"STORAGE_ACCOUNT_NAME\")"
   ]
  },
  {
   "cell_type": "markdown",
   "metadata": {},
   "source": [
    "## Install required libraries (if not already installed)"
   ]
  },
  {
   "cell_type": "code",
   "execution_count": null,
   "metadata": {},
   "outputs": [],
   "source": [
    "# pip install -r requirements.txt"
   ]
  },
  {
   "cell_type": "markdown",
   "metadata": {},
   "source": [
    "## 1. Define function to call AOAI Embeddings endpoint\n",
    "- Used to create vector embeddings for each row and field of the table"
   ]
  },
  {
   "cell_type": "code",
   "execution_count": null,
   "metadata": {},
   "outputs": [],
   "source": [
    "from openai import AzureOpenAI\n",
    "\n",
    "def get_embeddings(text):\n",
    "\n",
    "    openai_client = AzureOpenAI(\n",
    "            api_key =  '<add your api key here',\n",
    "            api_version = \"2024-05-01-preview\",\n",
    "            azure_endpoint ='https://tccontoso.openai.azure.com/'\n",
    "        )\n",
    "    \n",
    "    embedding = openai_client.embeddings.create(\n",
    "                 input = text,\n",
    "                 model= 'text-embedding-3-large'\n",
    "             ).data[0].embedding\n",
    "    \n",
    "    return embedding\n"
   ]
  },
  {
   "cell_type": "markdown",
   "metadata": {},
   "source": [
    "## 2. Create Index in Azure AI Search\n",
    "- Ensure that there is sufficient space for a new index. Standard tier only allows 3 indexes per resource\n",
    "- If an index of the same name already exists it will be updated. If the changes you are making are incompatible with the existing index definition, you will receive an error. In this case, either rename your target index, or delete the existing one"
   ]
  },
  {
   "cell_type": "code",
   "execution_count": null,
   "metadata": {},
   "outputs": [],
   "source": [
    "def createIndex(index_name):\n",
    "  print(\"Creating index...\")\n",
    "  print(f\"SEARCH_ADMIN_KEY = {SEARCH_ADMIN_KEY}\")\n",
    "  headers = {\n",
    "    \"Content-Type\": \"application/json\",\n",
    "    \"api-key\": SEARCH_ADMIN_KEY\n",
    "  }\n",
    "\n",
    "  with open(\"index_definition.json\", \"r\", encoding=\"utf-8\") as f:\n",
    "    index_definition = json.load(f)\n",
    "\n",
    "  index_definition[\"name\"] = index_name\n",
    "  print(f\"Current api-key: {index_definition['vectorSearch']['vectorizers'][0]['azureOpenAIParameters']['apiKey']}\")\n",
    "  index_definition['vectorSearch']['vectorizers'][0]['azureOpenAIParameters']['apiKey'] = AOAI_API_KEY\n",
    "  print(f\"Updated api-key: {index_definition['vectorSearch']['vectorizers'][0]['azureOpenAIParameters']['apiKey']}\")\n",
    "  endpoint = f\"{SEARCH_ENDPOINT}/indexes/{index_name}?api-version=2024-11-01-Preview\"\n",
    "  # Send the PUT request to create or update the index\n",
    "  response = requests.put(endpoint, headers=headers, data=json.dumps(index_definition))\n",
    "  \n",
    "  if 200 <= response.status_code < 300:\n",
    "    print(\"Index created or updated successfully!\")\n",
    "  else:\n",
    "    print(f\"Failed to create or update index. Status code: {response.status_code}\")\n",
    "\n",
    "createIndex(\"csv-index\")"
   ]
  },
  {
   "cell_type": "markdown",
   "metadata": {},
   "source": [
    "## 3. Upload JSON records to the AI Search Index\n",
    "- Execute for loop to iterate over each row in the table, create a vector embedding for the desired field, build an index payload JSON, upload payload to remote AI Search Resource\n",
    "- If using CSV with different fields, update the fields in the `doc` JSON accordingly\n",
    "- metadata_storage_path points to the source of the data\n",
    "- This step replaces the \"indexer\" job that would otherwise be run using the Azure Search https://learn.microsoft.com/en-us/rest/api/searchservice/create-indexer"
   ]
  },
  {
   "cell_type": "code",
   "execution_count": 8,
   "metadata": {},
   "outputs": [
    {
     "name": "stdout",
     "output_type": "stream",
     "text": [
      "https://www.google.com\n",
      "https://www.google.com\n",
      "https://www.google.com\n",
      "https://www.google.com\n",
      "https://www.google.com\n",
      "https://www.google.com\n",
      "https://www.google.com\n",
      "https://www.google.com\n",
      "https://www.google.com\n",
      "https://www.google.com\n",
      "https://www.google.com\n",
      "https://www.google.com\n"
     ]
    },
    {
     "data": {
      "text/plain": [
       "[<azure.search.documents._generated.models._models_py3.IndexingResult at 0x7f681cc47950>,\n",
       " <azure.search.documents._generated.models._models_py3.IndexingResult at 0x7f681cc45750>,\n",
       " <azure.search.documents._generated.models._models_py3.IndexingResult at 0x7f681cc47990>,\n",
       " <azure.search.documents._generated.models._models_py3.IndexingResult at 0x7f681cc47890>,\n",
       " <azure.search.documents._generated.models._models_py3.IndexingResult at 0x7f681cc457d0>,\n",
       " <azure.search.documents._generated.models._models_py3.IndexingResult at 0x7f681cc47790>,\n",
       " <azure.search.documents._generated.models._models_py3.IndexingResult at 0x7f681cc45110>,\n",
       " <azure.search.documents._generated.models._models_py3.IndexingResult at 0x7f681cc47410>,\n",
       " <azure.search.documents._generated.models._models_py3.IndexingResult at 0x7f681cc47610>,\n",
       " <azure.search.documents._generated.models._models_py3.IndexingResult at 0x7f681cc472d0>,\n",
       " <azure.search.documents._generated.models._models_py3.IndexingResult at 0x7f681cc47390>,\n",
       " <azure.search.documents._generated.models._models_py3.IndexingResult at 0x7f681cc471d0>]"
      ]
     },
     "execution_count": 8,
     "metadata": {},
     "output_type": "execute_result"
    }
   ],
   "source": [
    "\n",
    "def uploadIndexContent():\n",
    "  # Creates an index over a CSV that follows the schema of the ServiceCatalogData.csv\n",
    "  # Manually creates index rather than using the Indexer API\n",
    "\n",
    "  credential = AzureKeyCredential(SEARCH_ADMIN_KEY)\n",
    "  search_client = SearchClient(SEARCH_ENDPOINT, INDEX_NAME, credential)\n",
    "\n",
    "  docs_to_upload = []\n",
    "\n",
    "  # df = pd.read_csv(file_path)\n",
    "  df = get_table_data()\n",
    "\n",
    "  print(df.head())\n",
    "  print(df.columns)\n",
    "  count = 0\n",
    "  metadata_storage_path = f\"https://{STORAGE_ACCOUNT_NAME}.table.core.windows.net/DSWtest\"\n",
    "  for i, row in df.iterrows():\n",
    "    try:\n",
    "      doc = {\n",
    "        \"id\": str(i),\n",
    "        \"category\": row[\"Category\"],\n",
    "        \"categoryVector\": get_embeddings(row[\"Category\"]),\n",
    "        \"categoryDescription\": row[\"CategoryDescription\"],\n",
    "        \"categoryDescriptionVector\": get_embeddings(row[\"CategoryDescription\"]),\n",
    "        \"DefaultTeam\": row[\"DefaultTeam\"],\n",
    "        \"defaultTeamVector\": get_embeddings(row[\"DefaultTeam\"]),\n",
    "        \"Organization\": row[\"Organization\"],\n",
    "        \"organizationVector\": get_embeddings(row[\"Organization\"]),\n",
    "        \"Service\": row[\"Service\"],\n",
    "        \"serviceVector\": get_embeddings(row[\"Service\"]),\n",
    "        \"metadata_storage_path\": metadata_storage_path\n",
    "      }\n",
    "\n",
    "      docs_to_upload.append(doc)\n",
    "\n",
    "      #Uncomment to test with a small number of documents\n",
    "      # if count>5:\n",
    "      #   break\n",
    "      # count += 1\n",
    "\n",
    "      response = search_client.upload_documents(documents=docs_to_upload)\n",
    "      # print(response)\n",
    "\n",
    "    except Exception as e:\n",
    "      print(f\"Error uploading document {i}: {e}\")\n",
    "\n",
    "uploadIndexContent()"
   ]
  }
 ],
 "metadata": {
  "kernelspec": {
   "display_name": ".venv",
   "language": "python",
   "name": "python3"
  },
  "language_info": {
   "codemirror_mode": {
    "name": "ipython",
    "version": 3
   },
   "file_extension": ".py",
   "mimetype": "text/x-python",
   "name": "python",
   "nbconvert_exporter": "python",
   "pygments_lexer": "ipython3",
   "version": "3.10.13"
  }
 },
 "nbformat": 4,
 "nbformat_minor": 2
}
